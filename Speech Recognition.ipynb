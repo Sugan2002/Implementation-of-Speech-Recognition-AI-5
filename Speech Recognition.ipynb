{
 "cells": [
  {
   "cell_type": "code",
   "execution_count": 3,
   "id": "59c4a7e6",
   "metadata": {},
   "outputs": [
    {
     "name": "stdout",
     "output_type": "stream",
     "text": [
      "Collecting SpeechRecognition\n",
      "  Downloading SpeechRecognition-3.10.0-py2.py3-none-any.whl (32.8 MB)\n",
      "     ---------------------------------------- 32.8/32.8 MB 5.8 MB/s eta 0:00:00\n",
      "Requirement already satisfied: requests>=2.26.0 in c:\\users\\sugan\\anaconda3\\lib\\site-packages (from SpeechRecognition) (2.28.1)\n",
      "Requirement already satisfied: charset-normalizer<3,>=2 in c:\\users\\sugan\\anaconda3\\lib\\site-packages (from requests>=2.26.0->SpeechRecognition) (2.0.4)\n",
      "Requirement already satisfied: urllib3<1.27,>=1.21.1 in c:\\users\\sugan\\anaconda3\\lib\\site-packages (from requests>=2.26.0->SpeechRecognition) (1.26.14)\n",
      "Requirement already satisfied: idna<4,>=2.5 in c:\\users\\sugan\\anaconda3\\lib\\site-packages (from requests>=2.26.0->SpeechRecognition) (3.4)\n",
      "Requirement already satisfied: certifi>=2017.4.17 in c:\\users\\sugan\\anaconda3\\lib\\site-packages (from requests>=2.26.0->SpeechRecognition) (2022.12.7)\n",
      "Installing collected packages: SpeechRecognition\n",
      "Successfully installed SpeechRecognition-3.10.0\n",
      "Note: you may need to restart the kernel to use updated packages.\n"
     ]
    }
   ],
   "source": [
    "pip install SpeechRecognition  "
   ]
  },
  {
   "cell_type": "code",
   "execution_count": 12,
   "id": "80b111e1",
   "metadata": {},
   "outputs": [
    {
     "name": "stdout",
     "output_type": "stream",
     "text": [
      "Transcribed Text:\n",
      "president is an Archer moron\n"
     ]
    }
   ],
   "source": [
    "import speech_recognition as sr\n",
    "\n",
    "# Step 1: Import the speech_recognition module as sr.\n",
    "\n",
    "# Step 2: Assign a string variable \"file\" with the name of the audio file that you want to transcribe.\n",
    "file = \"audio_file.wav\"\n",
    "\n",
    "# Step 3: Create an instance of the Recognizer class called \"r\".\n",
    "r = sr.Recognizer()\n",
    "\n",
    "try:\n",
    "    # Step 4: Use the AudioFile() method of sr to create an AudioFile object with the audio file name passed as an argument.\n",
    "    with sr.AudioFile(file) as source:\n",
    "        # Step 5: Use the record() method of r to read the audio data from the AudioFile object and store it in the variable \"audio\".\n",
    "        audio = r.record(source)\n",
    "\n",
    "    # Step 6: Use the recognize_google() method of r to transcribe the audio data stored in the \"audio\" variable.\n",
    "    transcribed_text = r.recognize_google(audio)\n",
    "\n",
    "    # Step 7: Print the transcribed text on the console if the transcribe process was successful.\n",
    "    print(\"Transcribed Text:\")\n",
    "    print(transcribed_text)\n",
    "\n",
    "except sr.UnknownValueError:\n",
    "    # Step 8: Handle any potential errors during the transcribing process.\n",
    "    # If the audio is not clear, print \"not clear\".\n",
    "    print(\"Audio is not clear.\")\n",
    "\n",
    "except sr.RequestError:\n",
    "    # Step 8: Handle any potential errors during the transcribing process.\n",
    "    # If there's an error while trying to retrieve the transcribed text from the Google speech recognizer, print \"Couldn't get results from google speech recognizer\".\n",
    "    print(\"Couldn't get results from Google Speech Recognizer.\")\n"
   ]
  },
  {
   "cell_type": "code",
   "execution_count": null,
   "id": "c738a95c",
   "metadata": {},
   "outputs": [],
   "source": []
  }
 ],
 "metadata": {
  "kernelspec": {
   "display_name": "Python 3 (ipykernel)",
   "language": "python",
   "name": "python3"
  },
  "language_info": {
   "codemirror_mode": {
    "name": "ipython",
    "version": 3
   },
   "file_extension": ".py",
   "mimetype": "text/x-python",
   "name": "python",
   "nbconvert_exporter": "python",
   "pygments_lexer": "ipython3",
   "version": "3.10.9"
  }
 },
 "nbformat": 4,
 "nbformat_minor": 5
}
